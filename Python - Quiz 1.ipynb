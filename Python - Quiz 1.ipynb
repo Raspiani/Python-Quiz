{
 "cells": [
  {
   "cell_type": "markdown",
   "metadata": {},
   "source": [
    "## Python - Quiz 1"
   ]
  },
  {
   "cell_type": "code",
   "execution_count": 160,
   "metadata": {},
   "outputs": [
    {
     "data": {
      "text/plain": [
       "'Sir Arthur'"
      ]
     },
     "execution_count": 160,
     "metadata": {},
     "output_type": "execute_result"
    }
   ],
   "source": [
    "#1. What is the output of below program?\n",
    "\n",
    "def writer():    \n",
    "    title = 'Sir'    \n",
    "    name = (lambda x:title + ' ' + x)    \n",
    "    return name \n",
    "\n",
    "who = writer()\n",
    "who('Arthur') \n",
    "\n",
    "#Jawaban 'Sir Arthur'"
   ]
  },
  {
   "cell_type": "code",
   "execution_count": 161,
   "metadata": {},
   "outputs": [],
   "source": [
    "#2. What does the code below do?\n",
    "\n",
    "import sys\n",
    "sys.path.append('/root/mods')\n",
    "\n",
    "#Jawaban Adds a new directory to search for python modules that are imported"
   ]
  },
  {
   "cell_type": "code",
   "execution_count": 162,
   "metadata": {},
   "outputs": [],
   "source": [
    "#3. Operators with the same precedence are evaluated in which manner? \n",
    "\n",
    "#Jawaban Left to Right"
   ]
  },
  {
   "cell_type": "code",
   "execution_count": 163,
   "metadata": {},
   "outputs": [
    {
     "name": "stdout",
     "output_type": "stream",
     "text": [
      "9\n",
      "27\n"
     ]
    }
   ],
   "source": [
    "#4. What is the output of the below program?\n",
    "\n",
    "def power(x, y=2):\n",
    "    r=1\n",
    "    for i in range(y):\n",
    "        r = r * x\n",
    "    return r\n",
    "\n",
    "print(power(3))\n",
    "print(power(3,3))\n",
    "\n",
    "#Jawaban 9 27"
   ]
  },
  {
   "cell_type": "code",
   "execution_count": 164,
   "metadata": {},
   "outputs": [
    {
     "ename": "SyntaxError",
     "evalue": "invalid syntax (<ipython-input-164-a7b0a5655258>, line 8)",
     "output_type": "error",
     "traceback": [
      "\u001b[1;36m  File \u001b[1;32m\"<ipython-input-164-a7b0a5655258>\"\u001b[1;36m, line \u001b[1;32m8\u001b[0m\n\u001b[1;33m    child(parent):\u001b[0m\n\u001b[1;37m                  ^\u001b[0m\n\u001b[1;31mSyntaxError\u001b[0m\u001b[1;31m:\u001b[0m invalid syntax\n"
     ]
    }
   ],
   "source": [
    "#5. What gets printed?\n",
    "\n",
    "class parent:\n",
    "    \n",
    "    def __init__(self, param):\n",
    "        self.v1 = paramclass \n",
    "    \n",
    "    child(parent):\n",
    "        \n",
    "        def __init__(self, param):\n",
    "            self.v2 = param\n",
    "            obj = child(11)\n",
    "\n",
    "print(\"%d %d\" % (obj.v1, obj.v2)) \n",
    "\n",
    "#Jawaban Error "
   ]
  },
  {
   "cell_type": "code",
   "execution_count": 165,
   "metadata": {},
   "outputs": [],
   "source": [
    "#6. Which of the following data structures can be used with the \"in\" operator to check if an item is in the data structure?\n",
    "\n",
    "#Jawaban All of the above"
   ]
  },
  {
   "cell_type": "code",
   "execution_count": 166,
   "metadata": {},
   "outputs": [],
   "source": [
    "#7. Python supports the creation of anonymous functions at runtime, using a construct called __________?\n",
    "\n",
    "#Jawaban Lambda\n",
    "\n",
    "#Penjelasan : Python supports the creation of anonymous functions (i.e. functions that are not bound to a name) at runtime, using a construct called lambda. Lambda functions are restricted to a single expression. They can be used wherever normal functions can be used. "
   ]
  },
  {
   "cell_type": "code",
   "execution_count": 167,
   "metadata": {},
   "outputs": [
    {
     "name": "stdout",
     "output_type": "stream",
     "text": [
      "2.0\n"
     ]
    }
   ],
   "source": [
    "#8. What gets printed?\n",
    "\n",
    "x = 4.5\n",
    "y = 2\n",
    "\n",
    "print(x//y) \n",
    "\n",
    "#Jawaban 2.0"
   ]
  },
  {
   "cell_type": "code",
   "execution_count": 168,
   "metadata": {},
   "outputs": [],
   "source": [
    "#9. If PYTHONPATH is set in the environment, which directories are searched for modules?\n",
    "\n",
    "#A. PYTHONPATH directory\n",
    "#B. current directory\n",
    "#C. home directory\n",
    "#D. installation dependent default path\n",
    "\n",
    "#Jawaban A, B, dan D"
   ]
  },
  {
   "cell_type": "code",
   "execution_count": 169,
   "metadata": {},
   "outputs": [
    {
     "name": "stdout",
     "output_type": "stream",
     "text": [
      "9.0\n"
     ]
    }
   ],
   "source": [
    "#10. What is output of print(math.pow(3, 2))? \n",
    "\n",
    "import math\n",
    "print(math.pow(3, 2))\n",
    "\n",
    "#Jawaban 9.0"
   ]
  },
  {
   "cell_type": "code",
   "execution_count": 170,
   "metadata": {},
   "outputs": [
    {
     "name": "stdout",
     "output_type": "stream",
     "text": [
      "\\nwoow\n"
     ]
    }
   ],
   "source": [
    "#11. What gets printed?\n",
    "\n",
    "print(r\"\\nwoow\") \n",
    "\n",
    "#Jawaban The text like exactly like this: \\nwoow"
   ]
  },
  {
   "cell_type": "code",
   "execution_count": 171,
   "metadata": {},
   "outputs": [],
   "source": [
    "#12. How do you get the current position within the file? \n",
    "\n",
    "#Jawaban Fp.tell()"
   ]
  },
  {
   "cell_type": "code",
   "execution_count": 172,
   "metadata": {},
   "outputs": [
    {
     "ename": "SyntaxError",
     "evalue": "invalid token (<ipython-input-172-02272bb99b00>, line 8)",
     "output_type": "error",
     "traceback": [
      "\u001b[1;36m  File \u001b[1;32m\"<ipython-input-172-02272bb99b00>\"\u001b[1;36m, line \u001b[1;32m8\u001b[0m\n\u001b[1;33m    X = 03964\u001b[0m\n\u001b[1;37m            ^\u001b[0m\n\u001b[1;31mSyntaxError\u001b[0m\u001b[1;31m:\u001b[0m invalid token\n"
     ]
    }
   ],
   "source": [
    "#13. Which of the following is incorrect? \n",
    "\n",
    "#Pilihan Jawaban\n",
    "\n",
    "x = 0b101\n",
    "X = 0x4f5\n",
    "x = 19023\n",
    "X = 03964\n",
    "\n",
    "#Jawaban X = 03964"
   ]
  },
  {
   "cell_type": "code",
   "execution_count": 173,
   "metadata": {},
   "outputs": [],
   "source": [
    "#14. If you had a statement like, \"f = open(\"test.txt\",\"w\")\", what would happen to the file as soon as that statement is executed?\n",
    "\n",
    "f = open(\"test.txt\",\"w\")\n",
    "\n",
    "#Jawaban The file's contents will be erased"
   ]
  },
  {
   "cell_type": "code",
   "execution_count": 174,
   "metadata": {},
   "outputs": [],
   "source": [
    "#15. Can one block of except statements handle multiple exception?\n",
    "\n",
    "#Jawaban Yes, like except TypeError, SyntaxError [,…] "
   ]
  },
  {
   "cell_type": "code",
   "execution_count": 175,
   "metadata": {},
   "outputs": [
    {
     "name": "stdout",
     "output_type": "stream",
     "text": [
      "6\n"
     ]
    }
   ],
   "source": [
    "#16. what is the output of the below program?\n",
    "\n",
    "a = [1,2,3,None,(),[],]\n",
    "print (len(a)) \n",
    "\n",
    "#Jawaban 6"
   ]
  },
  {
   "cell_type": "code",
   "execution_count": 176,
   "metadata": {},
   "outputs": [
    {
     "name": "stdout",
     "output_type": "stream",
     "text": [
      "48\n"
     ]
    }
   ],
   "source": [
    "#17.  What is the output of this program? \n",
    "\n",
    "y = 6 \n",
    "z = lambda x: x * y\n",
    "\n",
    "print(z(8)) \n",
    "\n",
    "#Jawaban 48"
   ]
  },
  {
   "cell_type": "code",
   "execution_count": 177,
   "metadata": {},
   "outputs": [
    {
     "name": "stdout",
     "output_type": "stream",
     "text": [
      "yes\n"
     ]
    }
   ],
   "source": [
    "#18. What gets printed?\n",
    "\n",
    "x = True\n",
    "y = False\n",
    "z = False\n",
    "\n",
    "if x or y and z:\n",
    "    print(\"yes\")\n",
    "else:\n",
    "    print(\"no\")"
   ]
  },
  {
   "cell_type": "code",
   "execution_count": 178,
   "metadata": {},
   "outputs": [],
   "source": [
    "#19. All keywords in Python are in ?\n",
    "\n",
    "#Jawaban None"
   ]
  },
  {
   "cell_type": "code",
   "execution_count": 179,
   "metadata": {},
   "outputs": [],
   "source": [
    "#20. What happens if no arguments are passed to the seek function?\n",
    "\n",
    "#Pilihan Jawaban \n",
    "#A. File position is set to the start of file\n",
    "#B. File position is set to the end of file\n",
    "#C. File position remains unchanged\n",
    "#D. Error\n",
    "\n",
    "#Jawaban Error"
   ]
  },
  {
   "cell_type": "code",
   "execution_count": null,
   "metadata": {},
   "outputs": [],
   "source": [
    "#21. In python 2.6 or earlier, the code will print error type 1 if accessSecureSystem raises an exception of either AccessError type or SecurityError type \n",
    "\n",
    "try:\n",
    "    accessSecureSystem()\n",
    "except (AccessError, SecurityError):\n",
    "    print(\"error type 1\")\n",
    "\n",
    "continueWork()\n",
    "\n",
    "#Jawaban False"
   ]
  },
  {
   "cell_type": "code",
   "execution_count": 180,
   "metadata": {},
   "outputs": [
    {
     "name": "stdout",
     "output_type": "stream",
     "text": [
      "True\n"
     ]
    }
   ],
   "source": [
    "#22. Which of the following will print True? \n",
    "\n",
    "class foo(): \n",
    "    def __init__(self, x): \n",
    "        self.x = x \n",
    "    \n",
    "    def __lt__(self, other): \n",
    "        if self.x < other.x: \n",
    "            return True\n",
    "        else: \n",
    "            return False\n",
    "\n",
    "a = foo(2)\n",
    "b = foo(3)\n",
    "print(a < b)"
   ]
  },
  {
   "cell_type": "code",
   "execution_count": 181,
   "metadata": {},
   "outputs": [
    {
     "name": "stdout",
     "output_type": "stream",
     "text": [
      "HI!\n"
     ]
    }
   ],
   "source": [
    "#23. What gets printed?\n",
    "\n",
    "print (\"\\x48\\x49!\")\n",
    "\n",
    "#Jawaban HI!"
   ]
  },
  {
   "cell_type": "code",
   "execution_count": 182,
   "metadata": {},
   "outputs": [],
   "source": [
    "#24. What is the difference between r+ and w+ modes? \n",
    "\n",
    "#Pilihan Jawaban \n",
    "#A. No difference\n",
    "#B. In r+ the pointer is initially placed at the beginning of the file and the pointer is at the end for w+\n",
    "#C. In w+ the pointer is initially placed at the beginning of the file and the pointer is at the end for r+\n",
    "#D. Depends on the operating system\n",
    "\n",
    "#Jawaban In r+ the pointer is initially placed at the beginning of the file and the pointer is at the end for w+"
   ]
  },
  {
   "cell_type": "code",
   "execution_count": 183,
   "metadata": {},
   "outputs": [],
   "source": [
    "#25. If you have a variable \"example\", how do you check to see what type of variable you are working with? \n",
    "\n",
    "#Jawaban type(example)"
   ]
  },
  {
   "cell_type": "code",
   "execution_count": 184,
   "metadata": {},
   "outputs": [
    {
     "name": "stdout",
     "output_type": "stream",
     "text": [
      "212.0\n",
      "32.0\n"
     ]
    }
   ],
   "source": [
    "#26. What is the output of the below program? \n",
    "\n",
    "def C2F(c):    \n",
    "    return c * 9/5 + 32\n",
    "\n",
    "print(C2F(100))\n",
    "print(C2F(0)) \n",
    "\n",
    "#Jawaban 212.0 32.0"
   ]
  },
  {
   "cell_type": "code",
   "execution_count": 185,
   "metadata": {},
   "outputs": [
    {
     "name": "stdout",
     "output_type": "stream",
     "text": [
      "7\n"
     ]
    }
   ],
   "source": [
    "#27. What gets printed?\n",
    "class A:\n",
    "    def __init__(self, a, b, c):\n",
    "        self.x = a + b + c\n",
    "\n",
    "a = A(1,2,3)\n",
    "b = getattr(a, 'x')\n",
    "setattr(a, 'x', b+1)\n",
    "\n",
    "print(a.x) \n",
    "\n",
    "#Jawaban 7"
   ]
  },
  {
   "cell_type": "code",
   "execution_count": 186,
   "metadata": {},
   "outputs": [],
   "source": [
    "#28. Assuming the filename for the code below is /usr/lib/python/person.pyand the program is run as: python /usr/lib/python/person.py What gets printed?\n",
    "\n",
    "class Person:\n",
    "    def __init__(self):\n",
    "        pass\n",
    "    def getAge(self):\n",
    "        print(__name__p = Person())\n",
    "        p.getAge() \n",
    "        \n",
    "#Jawaban __main__"
   ]
  },
  {
   "cell_type": "code",
   "execution_count": 187,
   "metadata": {},
   "outputs": [],
   "source": [
    "#29. What is the order of precedence in python?\n",
    "\n",
    "#i) Parentheses\n",
    "#ii) Exponential\n",
    "#iii) Division\n",
    "#iv) Multiplication\n",
    "#v) Addition\n",
    "#vi) Subtraction \n",
    "\n",
    "#Jawaban i,ii,iv,iii,v,vi\n",
    "\n",
    "#Penjelasan :  For order of precedence, just remember this PEMDAS (similar to BODMAS)"
   ]
  },
  {
   "cell_type": "code",
   "execution_count": 188,
   "metadata": {},
   "outputs": [],
   "source": [
    "#30. Let A and B be objects of class Foo. Which functions are called when print(A + B) is executed? \n",
    "\n",
    "#Jawaban __add__(), __str__()"
   ]
  },
  {
   "cell_type": "code",
   "execution_count": 189,
   "metadata": {},
   "outputs": [
    {
     "data": {
      "text/plain": [
       "'C:\\\\Users\\\\RASPIANI'"
      ]
     },
     "execution_count": 189,
     "metadata": {},
     "output_type": "execute_result"
    }
   ],
   "source": [
    "#31. Which of the following returns a string that represents the present working directory?\n",
    "\n",
    "import os\n",
    "os.getcwd()\n",
    "\n",
    "#Jawaban os.getcwd()"
   ]
  },
  {
   "cell_type": "code",
   "execution_count": 190,
   "metadata": {},
   "outputs": [
    {
     "name": "stdout",
     "output_type": "stream",
     "text": [
      "46\n",
      "6352.89\n"
     ]
    }
   ],
   "source": [
    "#32. Which of the following will run without errors(multiple answers possible) ? \n",
    "\n",
    "print(round(45.8))\n",
    "print(round(6352.894,2))\n",
    "#print(round())\n",
    "#print(round(7463.123,2,1))\n",
    "\n",
    "#Jawaban round(45.8) round(6352.894,2)"
   ]
  },
  {
   "cell_type": "code",
   "execution_count": 191,
   "metadata": {},
   "outputs": [],
   "source": [
    "#33. What does the following code do?  \n",
    "\n",
    "def a(b, c, d): \n",
    "    pass\n",
    "\n",
    "#Jawaban Defines a function, which does nothing"
   ]
  },
  {
   "cell_type": "code",
   "execution_count": 192,
   "metadata": {},
   "outputs": [],
   "source": [
    "#34. How many except statements can a try-except block have? \n",
    "\n",
    "#Jawaban More than zero"
   ]
  },
  {
   "cell_type": "code",
   "execution_count": 193,
   "metadata": {},
   "outputs": [],
   "source": [
    "#35. Which of the following results in a SyntaxError(Multiple answers possible) ? \n",
    "\n",
    "#Pilihan Jawaban \n",
    "#A. '\"Once upon a time…\", she said.'\n",
    "#B. '3\\'\n",
    "#C. \"’That's okay\"'\n",
    "#D. \"He said, \"Yes!\"\"\n",
    "\n",
    "#Jawaban '3\\' dan \"He said, \"Yes!\"\""
   ]
  },
  {
   "cell_type": "code",
   "execution_count": null,
   "metadata": {},
   "outputs": [],
   "source": [
    "#36. What is returned by math.expm1(p)? \n",
    "\n",
    "math.expm1(p)\n",
    "\n",
    "#Jawaban (math.e ** p) – 1"
   ]
  },
  {
   "cell_type": "code",
   "execution_count": 194,
   "metadata": {},
   "outputs": [],
   "source": [
    "#37. Given a function that does not return any value, What value is thrown by it by default when executed in shell?\n",
    "\n",
    "#Jawaban None \n",
    "\n",
    "#Penjelasan : Python shell throws a NoneType object back. "
   ]
  },
  {
   "cell_type": "code",
   "execution_count": 195,
   "metadata": {},
   "outputs": [],
   "source": [
    "#38. Which of the following statements is NOT true about Python?\n",
    "\n",
    "#Jawaban Python's syntax is much like PHP"
   ]
  },
  {
   "cell_type": "code",
   "execution_count": 196,
   "metadata": {},
   "outputs": [
    {
     "name": "stdout",
     "output_type": "stream",
     "text": [
      "4\n",
      "9\n",
      "4\n",
      "16\n"
     ]
    }
   ],
   "source": [
    "#39. What sequence of numbers is printed?\n",
    "\n",
    "values = [2, 3, 2, 4]\n",
    "\n",
    "def my_transformation(num):\n",
    "    return num ** 2\n",
    "for i in map(my_transformation, values):\n",
    "    print(i) \n",
    "    \n",
    "#Jawaban 4 9 4 16"
   ]
  },
  {
   "cell_type": "code",
   "execution_count": null,
   "metadata": {},
   "outputs": [],
   "source": [
    "#40. #40. Is the following code valid? \n",
    "\n",
    "try:    # Do something\n",
    "except:    # Do something\n",
    "finally:    # Do something \n",
    "    \n",
    "#Jawaban no, finally cannot be used with except"
   ]
  },
  {
   "cell_type": "markdown",
   "metadata": {},
   "source": [
    "                        ##Semoga Bermanfaat \n",
    "                        ##@Raspiani_"
   ]
  }
 ],
 "metadata": {
  "kernelspec": {
   "display_name": "Python 3",
   "language": "python",
   "name": "python3"
  },
  "language_info": {
   "codemirror_mode": {
    "name": "ipython",
    "version": 3
   },
   "file_extension": ".py",
   "mimetype": "text/x-python",
   "name": "python",
   "nbconvert_exporter": "python",
   "pygments_lexer": "ipython3",
   "version": "3.6.5"
  }
 },
 "nbformat": 4,
 "nbformat_minor": 2
}
