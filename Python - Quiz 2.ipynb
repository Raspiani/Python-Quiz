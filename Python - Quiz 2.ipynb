{
 "cells": [
  {
   "cell_type": "markdown",
   "metadata": {},
   "source": [
    "## Python - Quiz 2"
   ]
  },
  {
   "cell_type": "code",
   "execution_count": 1,
   "metadata": {},
   "outputs": [
    {
     "data": {
      "text/plain": [
       "'hello'"
      ]
     },
     "execution_count": 1,
     "metadata": {},
     "output_type": "execute_result"
    }
   ],
   "source": [
    "#1. Python can recognise this data: \n",
    "\n",
    "\"hello\"\n",
    "\n",
    "#Jawaban Yes"
   ]
  },
  {
   "cell_type": "code",
   "execution_count": 2,
   "metadata": {},
   "outputs": [
    {
     "data": {
      "text/plain": [
       "56.97"
      ]
     },
     "execution_count": 2,
     "metadata": {},
     "output_type": "execute_result"
    }
   ],
   "source": [
    "#2. Python can recognise this data: \n",
    "\n",
    "56.97\n",
    "\n",
    "#Jawaban Yes"
   ]
  },
  {
   "cell_type": "code",
   "execution_count": null,
   "metadata": {},
   "outputs": [],
   "source": [
    "#3. Python can recognise this data: \n",
    "\n",
    "computer\n",
    "\n",
    "#Jawaban Sometime"
   ]
  },
  {
   "cell_type": "code",
   "execution_count": 4,
   "metadata": {},
   "outputs": [
    {
     "data": {
      "text/plain": [
       "51"
      ]
     },
     "execution_count": 4,
     "metadata": {},
     "output_type": "execute_result"
    }
   ],
   "source": [
    "#4. Python can recognise this code: \n",
    "\n",
    "3 + 6 * 8\n",
    "\n",
    "#Jawaban Yes"
   ]
  },
  {
   "cell_type": "code",
   "execution_count": 5,
   "metadata": {},
   "outputs": [],
   "source": [
    "#5. Python writes data on screen using which function? \n",
    "\n",
    "#Jawaban print()"
   ]
  },
  {
   "cell_type": "code",
   "execution_count": 6,
   "metadata": {},
   "outputs": [],
   "source": [
    "#6. Which operator performs which operation? \n",
    "\n",
    "#Jawaban di bawah ini:\n",
    "\n",
    "#+ adalah addition\n",
    "#- adalah subtraction\n",
    "#* adalah multiplication\n",
    "#/ adalah division (without decimal part)\n",
    "#% adalah modulo (remainder of devision)"
   ]
  },
  {
   "cell_type": "code",
   "execution_count": 7,
   "metadata": {},
   "outputs": [],
   "source": [
    "#7. What does Python use to store values?\n",
    "\n",
    "#Jawaban di bawah ini:\n",
    "\n",
    "#Variable\n",
    "#A Variable\n",
    "#Variables\n",
    "#=\n",
    "#= Sign\n",
    "#Equals\n",
    "#Equals Sign\n",
    "#Assignment\n",
    "#Assignment Operator"
   ]
  },
  {
   "cell_type": "code",
   "execution_count": 8,
   "metadata": {},
   "outputs": [
    {
     "name": "stdout",
     "output_type": "stream",
     "text": [
      "hello\n"
     ]
    }
   ],
   "source": [
    "#8. Python will run this program without errors: \n",
    "\n",
    "print(\"hello\")\n",
    "\n",
    "#Jawaban True"
   ]
  },
  {
   "cell_type": "code",
   "execution_count": 9,
   "metadata": {},
   "outputs": [
    {
     "name": "stdout",
     "output_type": "stream",
     "text": [
      "765.9908\n",
      "that was a number\n"
     ]
    }
   ],
   "source": [
    "#9. Python will run this program without errors: \n",
    "\n",
    "print(765.9908)\n",
    "print(\"that was a number\")\n",
    "\n",
    "#Jawaban True"
   ]
  },
  {
   "cell_type": "code",
   "execution_count": 10,
   "metadata": {},
   "outputs": [
    {
     "name": "stdout",
     "output_type": "stream",
     "text": [
      "5+7+2\n"
     ]
    }
   ],
   "source": [
    "#10. The output of this program will be? \n",
    "\n",
    "print(\"5+7+2\")\n",
    "\n",
    "#Jawaban 5+7+2"
   ]
  },
  {
   "cell_type": "code",
   "execution_count": 11,
   "metadata": {},
   "outputs": [
    {
     "ename": "NameError",
     "evalue": "name 'x' is not defined",
     "output_type": "error",
     "traceback": [
      "\u001b[1;31m---------------------------------------------------------------------------\u001b[0m",
      "\u001b[1;31mNameError\u001b[0m                                 Traceback (most recent call last)",
      "\u001b[1;32m<ipython-input-11-8bc02fcb77fe>\u001b[0m in \u001b[0;36m<module>\u001b[1;34m()\u001b[0m\n\u001b[0;32m      1\u001b[0m \u001b[1;31m#11. This program will run without errors:\u001b[0m\u001b[1;33m\u001b[0m\u001b[1;33m\u001b[0m\u001b[0m\n\u001b[0;32m      2\u001b[0m \u001b[1;33m\u001b[0m\u001b[0m\n\u001b[1;32m----> 3\u001b[1;33m \u001b[0mprint\u001b[0m\u001b[1;33m(\u001b[0m\u001b[0mx\u001b[0m\u001b[1;33m)\u001b[0m\u001b[1;33m\u001b[0m\u001b[0m\n\u001b[0m\u001b[0;32m      4\u001b[0m \u001b[0mx\u001b[0m \u001b[1;33m=\u001b[0m \u001b[1;36m3\u001b[0m\u001b[1;33m\u001b[0m\u001b[0m\n\u001b[0;32m      5\u001b[0m \u001b[0mprint\u001b[0m\u001b[1;33m(\u001b[0m\u001b[0mx\u001b[0m\u001b[1;33m+\u001b[0m\u001b[1;36m3\u001b[0m\u001b[1;33m)\u001b[0m\u001b[1;33m\u001b[0m\u001b[0m\n",
      "\u001b[1;31mNameError\u001b[0m: name 'x' is not defined"
     ]
    }
   ],
   "source": [
    "#11. This program will run without errors: \n",
    "\n",
    "print(x)\n",
    "x = 3\n",
    "print(x+3)\n",
    "\n",
    "#Jawaban False"
   ]
  },
  {
   "cell_type": "code",
   "execution_count": 12,
   "metadata": {},
   "outputs": [
    {
     "name": "stdout",
     "output_type": "stream",
     "text": [
      "Hello\n",
      "Hi, This is a number\n",
      "6\n",
      "8\n",
      "12\n"
     ]
    }
   ],
   "source": [
    "#12. What will the output of this program be? \n",
    "\n",
    "print(\"Hello\")\n",
    "text = \"This is a number\"\n",
    "print(\"Hi, \" + text)\n",
    "box = 4\n",
    "print(box + 2)\n",
    "print(box * 2)\n",
    "print(box * box - box)\n",
    "\n",
    "#Jawaban Hello Hi, This is a number 6 8 12"
   ]
  },
  {
   "cell_type": "code",
   "execution_count": 13,
   "metadata": {},
   "outputs": [],
   "source": [
    "#13. What structure do you use to let the computer make decisions in Python? \n",
    "\n",
    "#Jawaban If Statement"
   ]
  },
  {
   "cell_type": "code",
   "execution_count": 14,
   "metadata": {},
   "outputs": [],
   "source": [
    "#14. Which operator performs which operation?\n",
    "\n",
    "#Jawaban di bawah ini: \n",
    "\n",
    "#less than adalah <\n",
    "#greater than / more than adalah >\n",
    "#is equal to adalah ==\n",
    "#is less than or equal to adalah <=\n",
    "#is greater than or equal to adalah >=\n",
    "#is not equal to adalah !="
   ]
  },
  {
   "cell_type": "code",
   "execution_count": 15,
   "metadata": {},
   "outputs": [
    {
     "name": "stdout",
     "output_type": "stream",
     "text": [
      "hi\n"
     ]
    }
   ],
   "source": [
    "#15. Which of these could python run without errors? \n",
    "\n",
    "x = 5\n",
    "if x < 10:\n",
    "    print(\"hi\")"
   ]
  },
  {
   "cell_type": "code",
   "execution_count": 16,
   "metadata": {},
   "outputs": [],
   "source": [
    "#16. What optional part can you add to an if statement? \n",
    "\n",
    "#Jawaban Else"
   ]
  },
  {
   "cell_type": "code",
   "execution_count": null,
   "metadata": {},
   "outputs": [],
   "source": [
    "#17. This program is full of errors. What do you need to change to make it correct?\n",
    "\n",
    "cat_weight = 45\n",
    "if cat_wieght = 50;\n",
    "print your cat is healthy\n",
    "else:\n",
    "print unhealthy\n",
    "\n",
    "#Jawaban di bawah ini: \n",
    "\n",
    "# The variable name has been spelled wrong\n",
    "# If statements end in a colon, not semicolon\n",
    "# Instructions underneath an if and an else should be indented by 4 spaces\n",
    "# Print() should always be written with brackets\n",
    "# Words that python should understand should be \"surrounded by quotes\".\n",
    "# You should use ==, not = to check if two things are equal"
   ]
  },
  {
   "cell_type": "markdown",
   "metadata": {},
   "source": [
    "                        ##Semoga Bermanfaat\n",
    "                        ##@Raspiani_"
   ]
  }
 ],
 "metadata": {
  "kernelspec": {
   "display_name": "Python 3",
   "language": "python",
   "name": "python3"
  },
  "language_info": {
   "codemirror_mode": {
    "name": "ipython",
    "version": 3
   },
   "file_extension": ".py",
   "mimetype": "text/x-python",
   "name": "python",
   "nbconvert_exporter": "python",
   "pygments_lexer": "ipython3",
   "version": "3.6.5"
  }
 },
 "nbformat": 4,
 "nbformat_minor": 2
}
